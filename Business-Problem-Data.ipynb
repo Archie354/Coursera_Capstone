{
    "cells": [
        {
            "cell_type": "markdown",
            "metadata": {},
            "source": "# Business Problem - how venues influence the price of real estate? "
        },
        {
            "cell_type": "markdown",
            "metadata": {},
            "source": "For this project, I decided to model the relation between the price of an estate and the type of venues in its neighborhood. \nThe objective is to determine whether or not some venues have a direct impact on the price, and if so how is the price affected by it. \n\nConcretely I will have to: \n1. geolocalize a set of real-estate transactions. As I cannot use geocoder API at such a large scale (too much data), I will have to make the analysis at the level of the neighborhoods. \n2. Calculate the average price per square meter for all neighborhoods in my data set. \n3. List the venues (and the type of venues) for each neighborhood\n4. Concatenate my two sources of data into one df\n5. Split my data in order to have a train set and a test set \n6. Pick and design the right algorithm to determine & predict the price of an estate given the venues in its neighborhood\n7. Evaluate the accuracy of the model\n\nNote: \n1. To make this analysis accurate and a bit pertinent I would need to work at the level of each transaction (i.e. geolocalize each real estate), because not only is it the closest neighborhood that has an impact, but also the distance is a fluctuant & quite relevant parameter (e.g. it may be convinent to have a supermarket nearby your place but maybe not to having seen on the building from your living room. You'd rather have a beautiful park). \n2. Some other factors will be disregarded to make this study simplier. Yet they probably have some big impacts on the price (e.g. construction date of the building, material used for the construction, ecominical & social indicators of the population living in the neighborhood, etc.)"
        },
        {
            "cell_type": "code",
            "execution_count": 1,
            "metadata": {},
            "outputs": [],
            "source": "import numpy as np # library to handle data in a vectorized manner\n\nimport pandas as pd # library for data analsysis\npd.set_option('display.max_columns', None)\npd.set_option('display.max_rows', None)\n\nimport json # library to handle JSON files\n\nimport requests # library to handle requests\nfrom pandas.io.json import json_normalize # tranform JSON file into a pandas dataframe\n\n# Matplotlib and associated plotting modules\nimport matplotlib.cm as cm\nimport matplotlib.colors as colors\n\n# import k-means from clustering stage\nfrom sklearn.cluster import KMeans\n\n"
        },
        {
            "cell_type": "markdown",
            "metadata": {},
            "source": "# Presentation of my Data & its pre-processing"
        },
        {
            "cell_type": "markdown",
            "metadata": {},
            "source": "I will first import my main data source as a csv using the following method. Please find below a data set description: \n\nManhattan Rolling Sales File.  All Sales From Oct 2018 - Sep 2019.\t\t\t\n\"For sales prior to the Final, Neighborhood Name and Descriptive Data reflect the Final Roll 2019/20.\u00a0 \nSales after the Final Roll, Neighborhood Name and Descriptive Data reflect current data\"\t\t\t\nBuilding Class Category is based on Building Class at Time of Sale.\t\t\t\nNote: Condominium and cooperative sales are on the unit level and understood to have a count of one.\t\t\t\n\n\nIf you are interested by this dataset, you can download it from this url: https://www1.nyc.gov/site/finance/taxes/property-rolling-sales-data.page"
        },
        {
            "cell_type": "code",
            "execution_count": 31,
            "metadata": {},
            "outputs": [
                {
                    "data": {
                        "text/html": "<div>\n<style scoped>\n    .dataframe tbody tr th:only-of-type {\n        vertical-align: middle;\n    }\n\n    .dataframe tbody tr th {\n        vertical-align: top;\n    }\n\n    .dataframe thead th {\n        text-align: right;\n    }\n</style>\n<table border=\"1\" class=\"dataframe\">\n  <thead>\n    <tr style=\"text-align: right;\">\n      <th></th>\n      <th>NEIGHBORHOOD</th>\n      <th>ADDRESS</th>\n      <th>ZIP CODE</th>\n      <th>GROSS_SQUARE_FEET</th>\n      <th>YEAR BUILT</th>\n      <th>TAX CLASS AT TIME OF SALE</th>\n      <th>BUILDING CLASS AT TIME OF SALE</th>\n      <th>SALE_PRICE</th>\n    </tr>\n  </thead>\n  <tbody>\n    <tr>\n      <th>0</th>\n      <td>ALPHABET CITY</td>\n      <td>743 EAST 6TH STREET</td>\n      <td>10009</td>\n      <td>3.68</td>\n      <td>1940</td>\n      <td>1</td>\n      <td>S1</td>\n      <td>3,200,000</td>\n    </tr>\n    <tr>\n      <th>1</th>\n      <td>ALPHABET CITY</td>\n      <td>526 EAST 5TH STREET</td>\n      <td>10009</td>\n      <td>5.2</td>\n      <td>1900</td>\n      <td>1</td>\n      <td>A4</td>\n      <td>6,100,000</td>\n    </tr>\n    <tr>\n      <th>2</th>\n      <td>ALPHABET CITY</td>\n      <td>263 EAST 7TH STREET</td>\n      <td>10009</td>\n      <td>3.6</td>\n      <td>1899</td>\n      <td>1</td>\n      <td>C0</td>\n      <td>6,300,000</td>\n    </tr>\n    <tr>\n      <th>3</th>\n      <td>ALPHABET CITY</td>\n      <td>300 EAST 3RD STREET</td>\n      <td>10009</td>\n      <td>7.989</td>\n      <td>2001</td>\n      <td>2</td>\n      <td>C1</td>\n      <td>1,950,000</td>\n    </tr>\n    <tr>\n      <th>4</th>\n      <td>ALPHABET CITY</td>\n      <td>332 EAST 4TH STREET</td>\n      <td>10009</td>\n      <td>17.478</td>\n      <td>1920</td>\n      <td>2</td>\n      <td>C7</td>\n      <td>14,000,000</td>\n    </tr>\n  </tbody>\n</table>\n</div>",
                        "text/plain": "    NEIGHBORHOOD              ADDRESS  ZIP CODE GROSS_SQUARE_FEET  YEAR BUILT  \\\n0  ALPHABET CITY  743 EAST 6TH STREET     10009              3.68        1940   \n1  ALPHABET CITY  526 EAST 5TH STREET     10009               5.2        1900   \n2  ALPHABET CITY  263 EAST 7TH STREET     10009               3.6        1899   \n3  ALPHABET CITY  300 EAST 3RD STREET     10009             7.989        2001   \n4  ALPHABET CITY  332 EAST 4TH STREET     10009            17.478        1920   \n\n   TAX CLASS AT TIME OF SALE BUILDING CLASS AT TIME OF SALE  SALE_PRICE  \n0                          1                             S1   3,200,000  \n1                          1                             A4   6,100,000  \n2                          1                             C0   6,300,000  \n3                          2                             C1   1,950,000  \n4                          2                             C7  14,000,000  "
                    },
                    "execution_count": 31,
                    "metadata": {},
                    "output_type": "execute_result"
                }
            ],
            "source": "# The code was removed by Watson Studio for sharing."
        },
        {
            "cell_type": "markdown",
            "metadata": {},
            "source": "Let\u2019s have a look at data dimensionality, feature names, and feature types"
        },
        {
            "cell_type": "code",
            "execution_count": 32,
            "metadata": {},
            "outputs": [
                {
                    "data": {
                        "text/plain": "(6835, 8)"
                    },
                    "execution_count": 32,
                    "metadata": {},
                    "output_type": "execute_result"
                }
            ],
            "source": "df_data.shape"
        },
        {
            "cell_type": "markdown",
            "metadata": {},
            "source": "From the output, we can see that the table contains 6835 rows and 8 columns.\n\nWe can use the info() method to output some general information about the dataframe:"
        },
        {
            "cell_type": "code",
            "execution_count": 33,
            "metadata": {},
            "outputs": [
                {
                    "name": "stdout",
                    "output_type": "stream",
                    "text": "<class 'pandas.core.frame.DataFrame'>\nRangeIndex: 6835 entries, 0 to 6834\nData columns (total 8 columns):\nNEIGHBORHOOD                      6835 non-null object\nADDRESS                           6835 non-null object\nZIP CODE                          6835 non-null int64\nGROSS_SQUARE_FEET                 6835 non-null object\nYEAR BUILT                        6835 non-null int64\nTAX CLASS AT TIME OF SALE         6835 non-null int64\nBUILDING CLASS AT TIME OF SALE    6835 non-null object\nSALE_PRICE                        6835 non-null object\ndtypes: int64(3), object(5)\nmemory usage: 427.3+ KB\n"
                }
            ],
            "source": "df_data.info()"
        },
        {
            "cell_type": "markdown",
            "metadata": {},
            "source": "I will clean a bit my df by removing some useless columns (as I explained in my presentation, I will model a price function only based on a few variables)"
        },
        {
            "cell_type": "code",
            "execution_count": 3,
            "metadata": {},
            "outputs": [
                {
                    "data": {
                        "text/html": "<div>\n<style scoped>\n    .dataframe tbody tr th:only-of-type {\n        vertical-align: middle;\n    }\n\n    .dataframe tbody tr th {\n        vertical-align: top;\n    }\n\n    .dataframe thead th {\n        text-align: right;\n    }\n</style>\n<table border=\"1\" class=\"dataframe\">\n  <thead>\n    <tr style=\"text-align: right;\">\n      <th></th>\n      <th>NEIGHBORHOOD</th>\n      <th>GROSS_SQUARE_FEET</th>\n      <th>SALE_PRICE</th>\n    </tr>\n  </thead>\n  <tbody>\n    <tr>\n      <th>0</th>\n      <td>ALPHABET CITY</td>\n      <td>3.68</td>\n      <td>3,200,000</td>\n    </tr>\n    <tr>\n      <th>1</th>\n      <td>ALPHABET CITY</td>\n      <td>5.2</td>\n      <td>6,100,000</td>\n    </tr>\n    <tr>\n      <th>2</th>\n      <td>ALPHABET CITY</td>\n      <td>3.6</td>\n      <td>6,300,000</td>\n    </tr>\n    <tr>\n      <th>3</th>\n      <td>ALPHABET CITY</td>\n      <td>7.989</td>\n      <td>1,950,000</td>\n    </tr>\n    <tr>\n      <th>4</th>\n      <td>ALPHABET CITY</td>\n      <td>17.478</td>\n      <td>14,000,000</td>\n    </tr>\n  </tbody>\n</table>\n</div>",
                        "text/plain": "    NEIGHBORHOOD GROSS_SQUARE_FEET  SALE_PRICE\n0  ALPHABET CITY              3.68   3,200,000\n1  ALPHABET CITY               5.2   6,100,000\n2  ALPHABET CITY               3.6   6,300,000\n3  ALPHABET CITY             7.989   1,950,000\n4  ALPHABET CITY            17.478  14,000,000"
                    },
                    "execution_count": 3,
                    "metadata": {},
                    "output_type": "execute_result"
                }
            ],
            "source": "df_data_0 = df_data_0.drop([\"ADDRESS\",\"ZIP CODE\",\"YEAR BUILT\",\"TAX CLASS AT TIME OF SALE\", \"BUILDING CLASS AT TIME OF SALE\"], axis=1)\ndf_data_0.head()"
        },
        {
            "cell_type": "markdown",
            "metadata": {},
            "source": "In order to compute the quantities, I first need to transform the type (once into str to remove the comma; then a second time into float to apply some basic statistical functions)"
        },
        {
            "cell_type": "code",
            "execution_count": 4,
            "metadata": {},
            "outputs": [
                {
                    "data": {
                        "text/html": "<div>\n<style scoped>\n    .dataframe tbody tr th:only-of-type {\n        vertical-align: middle;\n    }\n\n    .dataframe tbody tr th {\n        vertical-align: top;\n    }\n\n    .dataframe thead th {\n        text-align: right;\n    }\n</style>\n<table border=\"1\" class=\"dataframe\">\n  <thead>\n    <tr style=\"text-align: right;\">\n      <th></th>\n      <th>NEIGHBORHOOD</th>\n      <th>GROSS_SQUARE_FEET</th>\n      <th>SALE_PRICE</th>\n    </tr>\n  </thead>\n  <tbody>\n    <tr>\n      <th>0</th>\n      <td>ALPHABET CITY</td>\n      <td>3.680</td>\n      <td>3200000.0</td>\n    </tr>\n    <tr>\n      <th>1</th>\n      <td>ALPHABET CITY</td>\n      <td>5.200</td>\n      <td>6100000.0</td>\n    </tr>\n    <tr>\n      <th>2</th>\n      <td>ALPHABET CITY</td>\n      <td>3.600</td>\n      <td>6300000.0</td>\n    </tr>\n    <tr>\n      <th>3</th>\n      <td>ALPHABET CITY</td>\n      <td>7.989</td>\n      <td>1950000.0</td>\n    </tr>\n    <tr>\n      <th>4</th>\n      <td>ALPHABET CITY</td>\n      <td>17.478</td>\n      <td>14000000.0</td>\n    </tr>\n  </tbody>\n</table>\n</div>",
                        "text/plain": "    NEIGHBORHOOD  GROSS_SQUARE_FEET  SALE_PRICE\n0  ALPHABET CITY              3.680   3200000.0\n1  ALPHABET CITY              5.200   6100000.0\n2  ALPHABET CITY              3.600   6300000.0\n3  ALPHABET CITY              7.989   1950000.0\n4  ALPHABET CITY             17.478  14000000.0"
                    },
                    "execution_count": 4,
                    "metadata": {},
                    "output_type": "execute_result"
                }
            ],
            "source": "df_data_0['SALE_PRICE'] = df_data_0.SALE_PRICE.astype(str)\ndf_data_0['GROSS_SQUARE_FEET'] = df_data_0.GROSS_SQUARE_FEET.astype(str)\n\na = df_data_0['SALE_PRICE'].tolist() \nb = df_data_0['GROSS_SQUARE_FEET'].tolist()\n\na = [i.replace(\",\",\"\") for i in a]\nb = [i.replace(\",\",\"\") for i in b]\n\ndf_data_0['SALE_PRICE'] = a\ndf_data_0['GROSS_SQUARE_FEET'] = b\n\ndf_data_0['SALE_PRICE'] = df_data_0.SALE_PRICE.astype(float)\ndf_data_0['GROSS_SQUARE_FEET'] = df_data_0.GROSS_SQUARE_FEET.astype(float)\n\ndf_data_0.head()"
        },
        {
            "cell_type": "markdown",
            "metadata": {},
            "source": "As I'm facing some performance issues with geocoder API, I will use a ready-made data set where I can extract the geographic coordinates for each neighborhood in Manhattan"
        },
        {
            "cell_type": "code",
            "execution_count": 5,
            "metadata": {},
            "outputs": [
                {
                    "name": "stdout",
                    "output_type": "stream",
                    "text": "Data downloaded!\n"
                }
            ],
            "source": "!wget -q -O 'newyork_data.json' https://cocl.us/new_york_dataset\nprint('Data downloaded!')"
        },
        {
            "cell_type": "code",
            "execution_count": 6,
            "metadata": {},
            "outputs": [],
            "source": "with open('newyork_data.json') as json_data:\n    newyork_data = json.load(json_data)"
        },
        {
            "cell_type": "code",
            "execution_count": 7,
            "metadata": {},
            "outputs": [],
            "source": "neighborhoods_data = newyork_data['features']"
        },
        {
            "cell_type": "code",
            "execution_count": 8,
            "metadata": {},
            "outputs": [],
            "source": "# define the dataframe columns\ncolumn_names = ['Borough', 'Neighborhood', 'Latitude', 'Longitude'] \n\n# instantiate the dataframe\nneighborhoods = pd.DataFrame(columns=column_names)"
        },
        {
            "cell_type": "code",
            "execution_count": 9,
            "metadata": {},
            "outputs": [],
            "source": "for data in neighborhoods_data:\n    borough = neighborhood_name = data['properties']['borough'] \n    neighborhood_name = data['properties']['name']\n        \n    neighborhood_latlon = data['geometry']['coordinates']\n    neighborhood_lat = neighborhood_latlon[1]\n    neighborhood_lon = neighborhood_latlon[0]\n    \n    neighborhoods = neighborhoods.append({'Borough': borough,\n                                          'Neighborhood': neighborhood_name,\n                                          'Latitude': neighborhood_lat,\n                                          'Longitude': neighborhood_lon}, ignore_index=True)"
        },
        {
            "cell_type": "code",
            "execution_count": 10,
            "metadata": {},
            "outputs": [
                {
                    "data": {
                        "text/html": "<div>\n<style scoped>\n    .dataframe tbody tr th:only-of-type {\n        vertical-align: middle;\n    }\n\n    .dataframe tbody tr th {\n        vertical-align: top;\n    }\n\n    .dataframe thead th {\n        text-align: right;\n    }\n</style>\n<table border=\"1\" class=\"dataframe\">\n  <thead>\n    <tr style=\"text-align: right;\">\n      <th></th>\n      <th>Borough</th>\n      <th>Neighborhood</th>\n      <th>Latitude</th>\n      <th>Longitude</th>\n    </tr>\n  </thead>\n  <tbody>\n    <tr>\n      <th>0</th>\n      <td>Manhattan</td>\n      <td>Marble Hill</td>\n      <td>40.876551</td>\n      <td>-73.910660</td>\n    </tr>\n    <tr>\n      <th>1</th>\n      <td>Manhattan</td>\n      <td>Chinatown</td>\n      <td>40.715618</td>\n      <td>-73.994279</td>\n    </tr>\n    <tr>\n      <th>2</th>\n      <td>Manhattan</td>\n      <td>Washington Heights</td>\n      <td>40.851903</td>\n      <td>-73.936900</td>\n    </tr>\n    <tr>\n      <th>3</th>\n      <td>Manhattan</td>\n      <td>Inwood</td>\n      <td>40.867684</td>\n      <td>-73.921210</td>\n    </tr>\n    <tr>\n      <th>4</th>\n      <td>Manhattan</td>\n      <td>Hamilton Heights</td>\n      <td>40.823604</td>\n      <td>-73.949688</td>\n    </tr>\n  </tbody>\n</table>\n</div>",
                        "text/plain": "     Borough        Neighborhood   Latitude  Longitude\n0  Manhattan         Marble Hill  40.876551 -73.910660\n1  Manhattan           Chinatown  40.715618 -73.994279\n2  Manhattan  Washington Heights  40.851903 -73.936900\n3  Manhattan              Inwood  40.867684 -73.921210\n4  Manhattan    Hamilton Heights  40.823604 -73.949688"
                    },
                    "execution_count": 10,
                    "metadata": {},
                    "output_type": "execute_result"
                }
            ],
            "source": "manhattan_data = neighborhoods[neighborhoods['Borough'] == 'Manhattan'].reset_index(drop=True)\nmanhattan_data.head()"
        },
        {
            "cell_type": "code",
            "execution_count": 11,
            "metadata": {},
            "outputs": [
                {
                    "data": {
                        "text/html": "<div>\n<style scoped>\n    .dataframe tbody tr th:only-of-type {\n        vertical-align: middle;\n    }\n\n    .dataframe tbody tr th {\n        vertical-align: top;\n    }\n\n    .dataframe thead th {\n        text-align: right;\n    }\n</style>\n<table border=\"1\" class=\"dataframe\">\n  <thead>\n    <tr style=\"text-align: right;\">\n      <th></th>\n      <th>NEIGHBORHOOD</th>\n      <th>Latitude</th>\n      <th>Longitude</th>\n    </tr>\n  </thead>\n  <tbody>\n    <tr>\n      <th>0</th>\n      <td>MARBLE HILL</td>\n      <td>40.876551</td>\n      <td>-73.910660</td>\n    </tr>\n    <tr>\n      <th>1</th>\n      <td>CHINATOWN</td>\n      <td>40.715618</td>\n      <td>-73.994279</td>\n    </tr>\n    <tr>\n      <th>2</th>\n      <td>WASHINGTON HEIGHTS</td>\n      <td>40.851903</td>\n      <td>-73.936900</td>\n    </tr>\n    <tr>\n      <th>3</th>\n      <td>INWOOD</td>\n      <td>40.867684</td>\n      <td>-73.921210</td>\n    </tr>\n    <tr>\n      <th>4</th>\n      <td>HAMILTON HEIGHTS</td>\n      <td>40.823604</td>\n      <td>-73.949688</td>\n    </tr>\n  </tbody>\n</table>\n</div>",
                        "text/plain": "         NEIGHBORHOOD   Latitude  Longitude\n0         MARBLE HILL  40.876551 -73.910660\n1           CHINATOWN  40.715618 -73.994279\n2  WASHINGTON HEIGHTS  40.851903 -73.936900\n3              INWOOD  40.867684 -73.921210\n4    HAMILTON HEIGHTS  40.823604 -73.949688"
                    },
                    "execution_count": 11,
                    "metadata": {},
                    "output_type": "execute_result"
                }
            ],
            "source": "manhattan_data.rename(columns={'Neighborhood': 'NEIGHBORHOOD'},inplace=True)\nmanhattan_data = manhattan_data.drop(\"Borough\", axis=1)\nmanhattan_data['NEIGHBORHOOD'] = manhattan_data['NEIGHBORHOOD'].str.upper() \nmanhattan_data.head()"
        },
        {
            "cell_type": "code",
            "execution_count": 12,
            "metadata": {},
            "outputs": [
                {
                    "data": {
                        "text/html": "<div>\n<style scoped>\n    .dataframe tbody tr th:only-of-type {\n        vertical-align: middle;\n    }\n\n    .dataframe tbody tr th {\n        vertical-align: top;\n    }\n\n    .dataframe thead th {\n        text-align: right;\n    }\n</style>\n<table border=\"1\" class=\"dataframe\">\n  <thead>\n    <tr style=\"text-align: right;\">\n      <th></th>\n      <th>NEIGHBORHOOD</th>\n      <th>GROSS_SQUARE_FEET</th>\n      <th>SALE_PRICE</th>\n      <th>Latitude</th>\n      <th>Longitude</th>\n    </tr>\n  </thead>\n  <tbody>\n    <tr>\n      <th>0</th>\n      <td>CIVIC CENTER</td>\n      <td>3.764</td>\n      <td>7079588.0</td>\n      <td>40.715229</td>\n      <td>-74.005415</td>\n    </tr>\n    <tr>\n      <th>1</th>\n      <td>CIVIC CENTER</td>\n      <td>3.764</td>\n      <td>7079588.0</td>\n      <td>40.715229</td>\n      <td>-74.005415</td>\n    </tr>\n    <tr>\n      <th>2</th>\n      <td>CIVIC CENTER</td>\n      <td>3.827</td>\n      <td>7900000.0</td>\n      <td>40.715229</td>\n      <td>-74.005415</td>\n    </tr>\n    <tr>\n      <th>3</th>\n      <td>CIVIC CENTER</td>\n      <td>3.827</td>\n      <td>7900000.0</td>\n      <td>40.715229</td>\n      <td>-74.005415</td>\n    </tr>\n    <tr>\n      <th>4</th>\n      <td>CIVIC CENTER</td>\n      <td>2.220</td>\n      <td>4700000.0</td>\n      <td>40.715229</td>\n      <td>-74.005415</td>\n    </tr>\n  </tbody>\n</table>\n</div>",
                        "text/plain": "   NEIGHBORHOOD  GROSS_SQUARE_FEET  SALE_PRICE   Latitude  Longitude\n0  CIVIC CENTER              3.764   7079588.0  40.715229 -74.005415\n1  CIVIC CENTER              3.764   7079588.0  40.715229 -74.005415\n2  CIVIC CENTER              3.827   7900000.0  40.715229 -74.005415\n3  CIVIC CENTER              3.827   7900000.0  40.715229 -74.005415\n4  CIVIC CENTER              2.220   4700000.0  40.715229 -74.005415"
                    },
                    "execution_count": 12,
                    "metadata": {},
                    "output_type": "execute_result"
                }
            ],
            "source": "Lastdf = df_data_0.merge(manhattan_data)\nLastdf.head()"
        },
        {
            "cell_type": "code",
            "execution_count": 13,
            "metadata": {},
            "outputs": [],
            "source": "Lastdf['Price/m2'] = (Lastdf.SALE_PRICE / Lastdf.GROSS_SQUARE_FEET)"
        },
        {
            "cell_type": "code",
            "execution_count": 14,
            "metadata": {},
            "outputs": [],
            "source": "g = Lastdf.groupby('NEIGHBORHOOD')"
        },
        {
            "cell_type": "code",
            "execution_count": 15,
            "metadata": {},
            "outputs": [
                {
                    "data": {
                        "text/html": "<div>\n<style scoped>\n    .dataframe tbody tr th:only-of-type {\n        vertical-align: middle;\n    }\n\n    .dataframe tbody tr th {\n        vertical-align: top;\n    }\n\n    .dataframe thead th {\n        text-align: right;\n    }\n</style>\n<table border=\"1\" class=\"dataframe\">\n  <thead>\n    <tr style=\"text-align: right;\">\n      <th></th>\n      <th>GROSS_SQUARE_FEET</th>\n      <th>SALE_PRICE</th>\n      <th>Latitude</th>\n      <th>Longitude</th>\n      <th>Price/m2</th>\n    </tr>\n    <tr>\n      <th>NEIGHBORHOOD</th>\n      <th></th>\n      <th></th>\n      <th></th>\n      <th></th>\n      <th></th>\n    </tr>\n  </thead>\n  <tbody>\n    <tr>\n      <th>CIVIC CENTER</th>\n      <td>4.423667</td>\n      <td>7.026654e+06</td>\n      <td>40.715229</td>\n      <td>-74.005415</td>\n      <td>2.056424e+06</td>\n    </tr>\n    <tr>\n      <th>CLINTON</th>\n      <td>437.652183</td>\n      <td>2.426260e+06</td>\n      <td>40.759101</td>\n      <td>-73.996119</td>\n      <td>5.123421e+05</td>\n    </tr>\n    <tr>\n      <th>EAST VILLAGE</th>\n      <td>225.606312</td>\n      <td>5.605654e+06</td>\n      <td>40.727847</td>\n      <td>-73.982226</td>\n      <td>1.017368e+06</td>\n    </tr>\n    <tr>\n      <th>FLATIRON</th>\n      <td>168.858676</td>\n      <td>1.542258e+07</td>\n      <td>40.739673</td>\n      <td>-73.990947</td>\n      <td>2.340082e+06</td>\n    </tr>\n    <tr>\n      <th>GRAMERCY</th>\n      <td>351.718578</td>\n      <td>4.411438e+06</td>\n      <td>40.737210</td>\n      <td>-73.981376</td>\n      <td>9.684232e+05</td>\n    </tr>\n    <tr>\n      <th>INWOOD</th>\n      <td>103.560471</td>\n      <td>2.679084e+06</td>\n      <td>40.867684</td>\n      <td>-73.921210</td>\n      <td>1.268207e+05</td>\n    </tr>\n    <tr>\n      <th>LITTLE ITALY</th>\n      <td>280.019705</td>\n      <td>5.945024e+06</td>\n      <td>40.719324</td>\n      <td>-73.997305</td>\n      <td>1.501599e+06</td>\n    </tr>\n    <tr>\n      <th>LOWER EAST SIDE</th>\n      <td>416.199264</td>\n      <td>3.293915e+06</td>\n      <td>40.717807</td>\n      <td>-73.980890</td>\n      <td>7.296687e+05</td>\n    </tr>\n    <tr>\n      <th>MANHATTAN VALLEY</th>\n      <td>472.416203</td>\n      <td>1.585142e+06</td>\n      <td>40.797307</td>\n      <td>-73.964286</td>\n      <td>1.921495e+05</td>\n    </tr>\n    <tr>\n      <th>MORNINGSIDE HEIGHTS</th>\n      <td>105.454000</td>\n      <td>3.123606e+07</td>\n      <td>40.808000</td>\n      <td>-73.963896</td>\n      <td>5.251334e+05</td>\n    </tr>\n    <tr>\n      <th>MURRAY HILL</th>\n      <td>392.100063</td>\n      <td>2.838923e+06</td>\n      <td>40.748303</td>\n      <td>-73.978332</td>\n      <td>7.952290e+05</td>\n    </tr>\n    <tr>\n      <th>ROOSEVELT ISLAND</th>\n      <td>467.908667</td>\n      <td>9.021032e+05</td>\n      <td>40.762160</td>\n      <td>-73.949168</td>\n      <td>6.001492e+05</td>\n    </tr>\n    <tr>\n      <th>SOHO</th>\n      <td>5557.267662</td>\n      <td>5.842216e+06</td>\n      <td>40.722184</td>\n      <td>-74.000657</td>\n      <td>1.343316e+06</td>\n    </tr>\n    <tr>\n      <th>TRIBECA</th>\n      <td>169.232918</td>\n      <td>6.742400e+06</td>\n      <td>40.721522</td>\n      <td>-74.010683</td>\n      <td>2.170659e+06</td>\n    </tr>\n  </tbody>\n</table>\n</div>",
                        "text/plain": "                     GROSS_SQUARE_FEET    SALE_PRICE   Latitude  Longitude  \\\nNEIGHBORHOOD                                                                 \nCIVIC CENTER                  4.423667  7.026654e+06  40.715229 -74.005415   \nCLINTON                     437.652183  2.426260e+06  40.759101 -73.996119   \nEAST VILLAGE                225.606312  5.605654e+06  40.727847 -73.982226   \nFLATIRON                    168.858676  1.542258e+07  40.739673 -73.990947   \nGRAMERCY                    351.718578  4.411438e+06  40.737210 -73.981376   \nINWOOD                      103.560471  2.679084e+06  40.867684 -73.921210   \nLITTLE ITALY                280.019705  5.945024e+06  40.719324 -73.997305   \nLOWER EAST SIDE             416.199264  3.293915e+06  40.717807 -73.980890   \nMANHATTAN VALLEY            472.416203  1.585142e+06  40.797307 -73.964286   \nMORNINGSIDE HEIGHTS         105.454000  3.123606e+07  40.808000 -73.963896   \nMURRAY HILL                 392.100063  2.838923e+06  40.748303 -73.978332   \nROOSEVELT ISLAND            467.908667  9.021032e+05  40.762160 -73.949168   \nSOHO                       5557.267662  5.842216e+06  40.722184 -74.000657   \nTRIBECA                     169.232918  6.742400e+06  40.721522 -74.010683   \n\n                         Price/m2  \nNEIGHBORHOOD                       \nCIVIC CENTER         2.056424e+06  \nCLINTON              5.123421e+05  \nEAST VILLAGE         1.017368e+06  \nFLATIRON             2.340082e+06  \nGRAMERCY             9.684232e+05  \nINWOOD               1.268207e+05  \nLITTLE ITALY         1.501599e+06  \nLOWER EAST SIDE      7.296687e+05  \nMANHATTAN VALLEY     1.921495e+05  \nMORNINGSIDE HEIGHTS  5.251334e+05  \nMURRAY HILL          7.952290e+05  \nROOSEVELT ISLAND     6.001492e+05  \nSOHO                 1.343316e+06  \nTRIBECA              2.170659e+06  "
                    },
                    "execution_count": 15,
                    "metadata": {},
                    "output_type": "execute_result"
                }
            ],
            "source": "g.mean()"
        },
        {
            "cell_type": "markdown",
            "metadata": {},
            "source": "# Extract Data from FourSquare & Merge them with my Df"
        },
        {
            "cell_type": "markdown",
            "metadata": {},
            "source": "Now that I have preprocessed my data, I need to get the venues for each neighborhood"
        },
        {
            "cell_type": "code",
            "execution_count": 16,
            "metadata": {
                "scrolled": true
            },
            "outputs": [
                {
                    "name": "stdout",
                    "output_type": "stream",
                    "text": "Your credentails:\nCLIENT_ID: U1JPB1RU3PAUAYPENRWH3PAQB0KA4CKW2KZSXXTKDKTM5M3Y\nCLIENT_SECRET:C05RBLVLNZ4V0AMBQPOSPSOV10HUJIOQI5FCUYTG3CQZORNR\n"
                }
            ],
            "source": "CLIENT_ID = 'U1JPB1RU3PAUAYPENRWH3PAQB0KA4CKW2KZSXXTKDKTM5M3Y' # your Foursquare ID\nCLIENT_SECRET = 'C05RBLVLNZ4V0AMBQPOSPSOV10HUJIOQI5FCUYTG3CQZORNR' # your Foursquare Secret\nVERSION = '20180605' # Foursquare API version\n\nprint('Your credentails:')\nprint('CLIENT_ID: ' + CLIENT_ID)\nprint('CLIENT_SECRET:' + CLIENT_SECRET)"
        },
        {
            "cell_type": "code",
            "execution_count": 17,
            "metadata": {},
            "outputs": [],
            "source": "# function that extracts the category of the venue\ndef get_category_type(row):\n    try:\n        categories_list = row['categories']\n    except:\n        categories_list = row['venue.categories']\n        \n    if len(categories_list) == 0:\n        return None\n    else:\n        return categories_list[0]['name']"
        },
        {
            "cell_type": "code",
            "execution_count": 18,
            "metadata": {},
            "outputs": [],
            "source": "Limit = 5 \nradius = 500 \n\ndef getNearbyVenues(names, latitudes, longitudes, radius=500):\n    \n    venues_list=[]\n    for name, lat, lng in zip(names, latitudes, longitudes):\n        print(name)\n            \n        # create the API request URL\n        url = 'https://api.foursquare.com/v2/venues/explore?&client_id={}&client_secret={}&v={}&ll={},{}&radius={}&limit={}'.format(\n            CLIENT_ID, \n            CLIENT_SECRET, \n            VERSION, \n            lat, \n            lng, \n            radius, \n            Limit)\n            \n        # make the GET request\n        results = requests.get(url).json()[\"response\"]['groups'][0]['items']\n        \n        # return only relevant information for each nearby venue\n        venues_list.append([(\n            name, \n            lat, \n            lng, \n            v['venue']['name'], \n            v['venue']['location']['lat'], \n            v['venue']['location']['lng'],  \n            v['venue']['categories'][0]['name']) for v in results])\n\n    nearby_venues = pd.DataFrame([item for venue_list in venues_list for item in venue_list])\n    nearby_venues.columns = ['Neighborhood', \n                  'Neighborhood Latitude', \n                  'Neighborhood Longitude', \n                  'Venue', \n                  'Venue Latitude', \n                  'Venue Longitude', \n                  'Venue Category']\n    \n    return(nearby_venues)\n"
        },
        {
            "cell_type": "code",
            "execution_count": 19,
            "metadata": {},
            "outputs": [],
            "source": "Sample = Lastdf.sample(n = 200)"
        },
        {
            "cell_type": "code",
            "execution_count": 20,
            "metadata": {},
            "outputs": [
                {
                    "name": "stdout",
                    "output_type": "stream",
                    "text": "SOHO\nEAST VILLAGE\nTRIBECA\nMURRAY HILL\nSOHO\nSOHO\nLOWER EAST SIDE\nLOWER EAST SIDE\nMANHATTAN VALLEY\nROOSEVELT ISLAND\nMURRAY HILL\nCLINTON\nSOHO\nTRIBECA\nLOWER EAST SIDE\nSOHO\nMURRAY HILL\nSOHO\nTRIBECA\nMURRAY HILL\nSOHO\nTRIBECA\nGRAMERCY\nTRIBECA\nSOHO\nSOHO\nGRAMERCY\nTRIBECA\nMURRAY HILL\nTRIBECA\nMANHATTAN VALLEY\nCLINTON\nEAST VILLAGE\nTRIBECA\nTRIBECA\nEAST VILLAGE\nTRIBECA\nMURRAY HILL\nTRIBECA\nMURRAY HILL\nEAST VILLAGE\nLITTLE ITALY\nCLINTON\nGRAMERCY\nGRAMERCY\nTRIBECA\nCLINTON\nMANHATTAN VALLEY\nLOWER EAST SIDE\nLOWER EAST SIDE\nGRAMERCY\nTRIBECA\nTRIBECA\nTRIBECA\nLOWER EAST SIDE\nEAST VILLAGE\nTRIBECA\nCIVIC CENTER\nLOWER EAST SIDE\nFLATIRON\nFLATIRON\nLOWER EAST SIDE\nLOWER EAST SIDE\nLOWER EAST SIDE\nMANHATTAN VALLEY\nFLATIRON\nGRAMERCY\nFLATIRON\nMURRAY HILL\nLOWER EAST SIDE\nGRAMERCY\nTRIBECA\nLOWER EAST SIDE\nLOWER EAST SIDE\nTRIBECA\nFLATIRON\nGRAMERCY\nMURRAY HILL\nLOWER EAST SIDE\nSOHO\nLOWER EAST SIDE\nMURRAY HILL\nGRAMERCY\nGRAMERCY\nCLINTON\nFLATIRON\nLOWER EAST SIDE\nLOWER EAST SIDE\nTRIBECA\nTRIBECA\nSOHO\nLOWER EAST SIDE\nTRIBECA\nMURRAY HILL\nCIVIC CENTER\nLOWER EAST SIDE\nCLINTON\nLOWER EAST SIDE\nLOWER EAST SIDE\nLOWER EAST SIDE\nMANHATTAN VALLEY\nLOWER EAST SIDE\nLOWER EAST SIDE\nLOWER EAST SIDE\nTRIBECA\nMANHATTAN VALLEY\nFLATIRON\nMANHATTAN VALLEY\nSOHO\nMURRAY HILL\nSOHO\nFLATIRON\nCIVIC CENTER\nGRAMERCY\nLOWER EAST SIDE\nLOWER EAST SIDE\nTRIBECA\nMURRAY HILL\nLOWER EAST SIDE\nTRIBECA\nCLINTON\nLOWER EAST SIDE\nMURRAY HILL\nFLATIRON\nMANHATTAN VALLEY\nSOHO\nTRIBECA\nSOHO\nCIVIC CENTER\nGRAMERCY\nLOWER EAST SIDE\nGRAMERCY\nSOHO\nTRIBECA\nTRIBECA\nEAST VILLAGE\nFLATIRON\nTRIBECA\nSOHO\nLOWER EAST SIDE\nMURRAY HILL\nFLATIRON\nSOHO\nGRAMERCY\nEAST VILLAGE\nSOHO\nLOWER EAST SIDE\nSOHO\nGRAMERCY\nMURRAY HILL\nTRIBECA\nMURRAY HILL\nTRIBECA\nTRIBECA\nMURRAY HILL\nLOWER EAST SIDE\nROOSEVELT ISLAND\nMURRAY HILL\nSOHO\nLOWER EAST SIDE\nTRIBECA\nSOHO\nCLINTON\nMANHATTAN VALLEY\nFLATIRON\nMURRAY HILL\nEAST VILLAGE\nGRAMERCY\nLOWER EAST SIDE\nLOWER EAST SIDE\nLITTLE ITALY\nMURRAY HILL\nTRIBECA\nFLATIRON\nGRAMERCY\nSOHO\nMURRAY HILL\nTRIBECA\nMANHATTAN VALLEY\nEAST VILLAGE\nMANHATTAN VALLEY\nTRIBECA\nTRIBECA\nMANHATTAN VALLEY\nSOHO\nMANHATTAN VALLEY\nLOWER EAST SIDE\nLOWER EAST SIDE\nLITTLE ITALY\nEAST VILLAGE\nFLATIRON\nEAST VILLAGE\nSOHO\nLOWER EAST SIDE\nLOWER EAST SIDE\nGRAMERCY\nTRIBECA\nEAST VILLAGE\nSOHO\nFLATIRON\n"
                }
            ],
            "source": "manhattan_venues = getNearbyVenues(names=Sample['NEIGHBORHOOD'],\n                                   latitudes = Sample['Latitude'],\n                                   longitudes= Sample['Longitude']\n                                  )\n"
        },
        {
            "cell_type": "code",
            "execution_count": 23,
            "metadata": {},
            "outputs": [
                {
                    "data": {
                        "text/html": "<div>\n<style scoped>\n    .dataframe tbody tr th:only-of-type {\n        vertical-align: middle;\n    }\n\n    .dataframe tbody tr th {\n        vertical-align: top;\n    }\n\n    .dataframe thead th {\n        text-align: right;\n    }\n</style>\n<table border=\"1\" class=\"dataframe\">\n  <thead>\n    <tr style=\"text-align: right;\">\n      <th></th>\n      <th>Neighborhood</th>\n      <th>Art Gallery</th>\n      <th>Arts &amp; Crafts Store</th>\n      <th>Bar</th>\n      <th>Beer Bar</th>\n      <th>Beer Store</th>\n      <th>Coffee Shop</th>\n      <th>Comedy Club</th>\n      <th>Cycle Studio</th>\n      <th>Dance Studio</th>\n      <th>Dessert Shop</th>\n      <th>Dog Run</th>\n      <th>Falafel Restaurant</th>\n      <th>Farmers Market</th>\n      <th>Filipino Restaurant</th>\n      <th>Fried Chicken Joint</th>\n      <th>Furniture / Home Store</th>\n      <th>Gourmet Shop</th>\n      <th>Greek Restaurant</th>\n      <th>Gym</th>\n      <th>Gym / Fitness Center</th>\n      <th>Hawaiian Restaurant</th>\n      <th>Hostel</th>\n      <th>Hotel</th>\n      <th>Italian Restaurant</th>\n      <th>Japanese Restaurant</th>\n      <th>Mediterranean Restaurant</th>\n      <th>Miscellaneous Shop</th>\n      <th>Molecular Gastronomy Restaurant</th>\n      <th>Monument / Landmark</th>\n      <th>Moroccan Restaurant</th>\n      <th>Outdoors &amp; Recreation</th>\n      <th>Park</th>\n      <th>Peruvian Restaurant</th>\n      <th>Pet Caf\u00e9</th>\n      <th>Playground</th>\n      <th>Poke Place</th>\n      <th>Salad Place</th>\n      <th>Salon / Barbershop</th>\n      <th>Sandwich Place</th>\n      <th>Spa</th>\n      <th>Spanish Restaurant</th>\n      <th>Tea Room</th>\n      <th>Theater</th>\n      <th>Vietnamese Restaurant</th>\n      <th>Waterfront</th>\n      <th>Wine Bar</th>\n      <th>Yoga Studio</th>\n    </tr>\n  </thead>\n  <tbody>\n    <tr>\n      <th>0</th>\n      <td>SOHO</td>\n      <td>0</td>\n      <td>0</td>\n      <td>0</td>\n      <td>0</td>\n      <td>0</td>\n      <td>0</td>\n      <td>0</td>\n      <td>0</td>\n      <td>0</td>\n      <td>0</td>\n      <td>0</td>\n      <td>0</td>\n      <td>0</td>\n      <td>0</td>\n      <td>0</td>\n      <td>0</td>\n      <td>0</td>\n      <td>0</td>\n      <td>0</td>\n      <td>0</td>\n      <td>0</td>\n      <td>0</td>\n      <td>0</td>\n      <td>0</td>\n      <td>0</td>\n      <td>0</td>\n      <td>0</td>\n      <td>0</td>\n      <td>0</td>\n      <td>0</td>\n      <td>0</td>\n      <td>0</td>\n      <td>0</td>\n      <td>0</td>\n      <td>0</td>\n      <td>0</td>\n      <td>0</td>\n      <td>1</td>\n      <td>0</td>\n      <td>0</td>\n      <td>0</td>\n      <td>0</td>\n      <td>0</td>\n      <td>0</td>\n      <td>0</td>\n      <td>0</td>\n      <td>0</td>\n    </tr>\n    <tr>\n      <th>1</th>\n      <td>SOHO</td>\n      <td>0</td>\n      <td>0</td>\n      <td>0</td>\n      <td>0</td>\n      <td>0</td>\n      <td>0</td>\n      <td>0</td>\n      <td>0</td>\n      <td>1</td>\n      <td>0</td>\n      <td>0</td>\n      <td>0</td>\n      <td>0</td>\n      <td>0</td>\n      <td>0</td>\n      <td>0</td>\n      <td>0</td>\n      <td>0</td>\n      <td>0</td>\n      <td>0</td>\n      <td>0</td>\n      <td>0</td>\n      <td>0</td>\n      <td>0</td>\n      <td>0</td>\n      <td>0</td>\n      <td>0</td>\n      <td>0</td>\n      <td>0</td>\n      <td>0</td>\n      <td>0</td>\n      <td>0</td>\n      <td>0</td>\n      <td>0</td>\n      <td>0</td>\n      <td>0</td>\n      <td>0</td>\n      <td>0</td>\n      <td>0</td>\n      <td>0</td>\n      <td>0</td>\n      <td>0</td>\n      <td>0</td>\n      <td>0</td>\n      <td>0</td>\n      <td>0</td>\n      <td>0</td>\n    </tr>\n    <tr>\n      <th>2</th>\n      <td>SOHO</td>\n      <td>0</td>\n      <td>1</td>\n      <td>0</td>\n      <td>0</td>\n      <td>0</td>\n      <td>0</td>\n      <td>0</td>\n      <td>0</td>\n      <td>0</td>\n      <td>0</td>\n      <td>0</td>\n      <td>0</td>\n      <td>0</td>\n      <td>0</td>\n      <td>0</td>\n      <td>0</td>\n      <td>0</td>\n      <td>0</td>\n      <td>0</td>\n      <td>0</td>\n      <td>0</td>\n      <td>0</td>\n      <td>0</td>\n      <td>0</td>\n      <td>0</td>\n      <td>0</td>\n      <td>0</td>\n      <td>0</td>\n      <td>0</td>\n      <td>0</td>\n      <td>0</td>\n      <td>0</td>\n      <td>0</td>\n      <td>0</td>\n      <td>0</td>\n      <td>0</td>\n      <td>0</td>\n      <td>0</td>\n      <td>0</td>\n      <td>0</td>\n      <td>0</td>\n      <td>0</td>\n      <td>0</td>\n      <td>0</td>\n      <td>0</td>\n      <td>0</td>\n      <td>0</td>\n    </tr>\n    <tr>\n      <th>3</th>\n      <td>SOHO</td>\n      <td>0</td>\n      <td>0</td>\n      <td>0</td>\n      <td>0</td>\n      <td>0</td>\n      <td>0</td>\n      <td>0</td>\n      <td>0</td>\n      <td>0</td>\n      <td>0</td>\n      <td>0</td>\n      <td>0</td>\n      <td>0</td>\n      <td>0</td>\n      <td>0</td>\n      <td>0</td>\n      <td>0</td>\n      <td>0</td>\n      <td>0</td>\n      <td>0</td>\n      <td>0</td>\n      <td>0</td>\n      <td>0</td>\n      <td>0</td>\n      <td>0</td>\n      <td>0</td>\n      <td>1</td>\n      <td>0</td>\n      <td>0</td>\n      <td>0</td>\n      <td>0</td>\n      <td>0</td>\n      <td>0</td>\n      <td>0</td>\n      <td>0</td>\n      <td>0</td>\n      <td>0</td>\n      <td>0</td>\n      <td>0</td>\n      <td>0</td>\n      <td>0</td>\n      <td>0</td>\n      <td>0</td>\n      <td>0</td>\n      <td>0</td>\n      <td>0</td>\n      <td>0</td>\n    </tr>\n    <tr>\n      <th>4</th>\n      <td>SOHO</td>\n      <td>0</td>\n      <td>0</td>\n      <td>0</td>\n      <td>0</td>\n      <td>0</td>\n      <td>0</td>\n      <td>0</td>\n      <td>0</td>\n      <td>0</td>\n      <td>1</td>\n      <td>0</td>\n      <td>0</td>\n      <td>0</td>\n      <td>0</td>\n      <td>0</td>\n      <td>0</td>\n      <td>0</td>\n      <td>0</td>\n      <td>0</td>\n      <td>0</td>\n      <td>0</td>\n      <td>0</td>\n      <td>0</td>\n      <td>0</td>\n      <td>0</td>\n      <td>0</td>\n      <td>0</td>\n      <td>0</td>\n      <td>0</td>\n      <td>0</td>\n      <td>0</td>\n      <td>0</td>\n      <td>0</td>\n      <td>0</td>\n      <td>0</td>\n      <td>0</td>\n      <td>0</td>\n      <td>0</td>\n      <td>0</td>\n      <td>0</td>\n      <td>0</td>\n      <td>0</td>\n      <td>0</td>\n      <td>0</td>\n      <td>0</td>\n      <td>0</td>\n      <td>0</td>\n    </tr>\n  </tbody>\n</table>\n</div>",
                        "text/plain": "  Neighborhood  Art Gallery  Arts & Crafts Store  Bar  Beer Bar  Beer Store  \\\n0         SOHO            0                    0    0         0           0   \n1         SOHO            0                    0    0         0           0   \n2         SOHO            0                    1    0         0           0   \n3         SOHO            0                    0    0         0           0   \n4         SOHO            0                    0    0         0           0   \n\n   Coffee Shop  Comedy Club  Cycle Studio  Dance Studio  Dessert Shop  \\\n0            0            0             0             0             0   \n1            0            0             0             1             0   \n2            0            0             0             0             0   \n3            0            0             0             0             0   \n4            0            0             0             0             1   \n\n   Dog Run  Falafel Restaurant  Farmers Market  Filipino Restaurant  \\\n0        0                   0               0                    0   \n1        0                   0               0                    0   \n2        0                   0               0                    0   \n3        0                   0               0                    0   \n4        0                   0               0                    0   \n\n   Fried Chicken Joint  Furniture / Home Store  Gourmet Shop  \\\n0                    0                       0             0   \n1                    0                       0             0   \n2                    0                       0             0   \n3                    0                       0             0   \n4                    0                       0             0   \n\n   Greek Restaurant  Gym  Gym / Fitness Center  Hawaiian Restaurant  Hostel  \\\n0                 0    0                     0                    0       0   \n1                 0    0                     0                    0       0   \n2                 0    0                     0                    0       0   \n3                 0    0                     0                    0       0   \n4                 0    0                     0                    0       0   \n\n   Hotel  Italian Restaurant  Japanese Restaurant  Mediterranean Restaurant  \\\n0      0                   0                    0                         0   \n1      0                   0                    0                         0   \n2      0                   0                    0                         0   \n3      0                   0                    0                         0   \n4      0                   0                    0                         0   \n\n   Miscellaneous Shop  Molecular Gastronomy Restaurant  Monument / Landmark  \\\n0                   0                                0                    0   \n1                   0                                0                    0   \n2                   0                                0                    0   \n3                   1                                0                    0   \n4                   0                                0                    0   \n\n   Moroccan Restaurant  Outdoors & Recreation  Park  Peruvian Restaurant  \\\n0                    0                      0     0                    0   \n1                    0                      0     0                    0   \n2                    0                      0     0                    0   \n3                    0                      0     0                    0   \n4                    0                      0     0                    0   \n\n   Pet Caf\u00e9  Playground  Poke Place  Salad Place  Salon / Barbershop  \\\n0         0           0           0            0                   1   \n1         0           0           0            0                   0   \n2         0           0           0            0                   0   \n3         0           0           0            0                   0   \n4         0           0           0            0                   0   \n\n   Sandwich Place  Spa  Spanish Restaurant  Tea Room  Theater  \\\n0               0    0                   0         0        0   \n1               0    0                   0         0        0   \n2               0    0                   0         0        0   \n3               0    0                   0         0        0   \n4               0    0                   0         0        0   \n\n   Vietnamese Restaurant  Waterfront  Wine Bar  Yoga Studio  \n0                      0           0         0            0  \n1                      0           0         0            0  \n2                      0           0         0            0  \n3                      0           0         0            0  \n4                      0           0         0            0  "
                    },
                    "execution_count": 23,
                    "metadata": {},
                    "output_type": "execute_result"
                }
            ],
            "source": "# one hot encoding\nmanhattan_onehot = pd.get_dummies(manhattan_venues[['Venue Category']], prefix=\"\", prefix_sep=\"\")\n\n# add neighborhood column back to dataframe\nmanhattan_onehot['Neighborhood'] = manhattan_venues['Neighborhood'] \n\n# move neighborhood column to the first column\nfixed_columns = [manhattan_onehot.columns[-1]] + list(manhattan_onehot.columns[:-1])\nmanhattan_onehot = manhattan_onehot[fixed_columns]\n\nmanhattan_onehot.head()"
        },
        {
            "cell_type": "code",
            "execution_count": 29,
            "metadata": {},
            "outputs": [
                {
                    "data": {
                        "text/html": "<div>\n<style scoped>\n    .dataframe tbody tr th:only-of-type {\n        vertical-align: middle;\n    }\n\n    .dataframe tbody tr th {\n        vertical-align: top;\n    }\n\n    .dataframe thead th {\n        text-align: right;\n    }\n</style>\n<table border=\"1\" class=\"dataframe\">\n  <thead>\n    <tr style=\"text-align: right;\">\n      <th></th>\n      <th>NEIGHBORHOOD</th>\n      <th>GROSS_SQUARE_FEET</th>\n      <th>SALE_PRICE</th>\n      <th>Latitude</th>\n      <th>Longitude</th>\n      <th>Price/m2</th>\n      <th>Art Gallery</th>\n      <th>Arts &amp; Crafts Store</th>\n      <th>Bar</th>\n      <th>Beer Bar</th>\n      <th>Beer Store</th>\n      <th>Coffee Shop</th>\n      <th>Comedy Club</th>\n      <th>Cycle Studio</th>\n      <th>Dance Studio</th>\n      <th>Dessert Shop</th>\n      <th>Dog Run</th>\n      <th>Falafel Restaurant</th>\n      <th>Farmers Market</th>\n      <th>Filipino Restaurant</th>\n      <th>Fried Chicken Joint</th>\n      <th>Furniture / Home Store</th>\n      <th>Gourmet Shop</th>\n      <th>Greek Restaurant</th>\n      <th>Gym</th>\n      <th>Gym / Fitness Center</th>\n      <th>Hawaiian Restaurant</th>\n      <th>Hostel</th>\n      <th>Hotel</th>\n      <th>Italian Restaurant</th>\n      <th>Japanese Restaurant</th>\n      <th>Mediterranean Restaurant</th>\n      <th>Miscellaneous Shop</th>\n      <th>Molecular Gastronomy Restaurant</th>\n      <th>Monument / Landmark</th>\n      <th>Moroccan Restaurant</th>\n      <th>Outdoors &amp; Recreation</th>\n      <th>Park</th>\n      <th>Peruvian Restaurant</th>\n      <th>Pet Caf\u00e9</th>\n      <th>Playground</th>\n      <th>Poke Place</th>\n      <th>Salad Place</th>\n      <th>Salon / Barbershop</th>\n      <th>Sandwich Place</th>\n      <th>Spa</th>\n      <th>Spanish Restaurant</th>\n      <th>Tea Room</th>\n      <th>Theater</th>\n      <th>Vietnamese Restaurant</th>\n      <th>Waterfront</th>\n      <th>Wine Bar</th>\n      <th>Yoga Studio</th>\n    </tr>\n  </thead>\n  <tbody>\n    <tr>\n      <th>0</th>\n      <td>SOHO</td>\n      <td>258.0</td>\n      <td>2650000.0</td>\n      <td>40.722184</td>\n      <td>-74.000657</td>\n      <td>10271.317829</td>\n      <td>0</td>\n      <td>0</td>\n      <td>0</td>\n      <td>0</td>\n      <td>0</td>\n      <td>0</td>\n      <td>0</td>\n      <td>0</td>\n      <td>0</td>\n      <td>0</td>\n      <td>0</td>\n      <td>0</td>\n      <td>0</td>\n      <td>0</td>\n      <td>0</td>\n      <td>0</td>\n      <td>0</td>\n      <td>0</td>\n      <td>0</td>\n      <td>0</td>\n      <td>0</td>\n      <td>0</td>\n      <td>0</td>\n      <td>0</td>\n      <td>0</td>\n      <td>0</td>\n      <td>0</td>\n      <td>0</td>\n      <td>0</td>\n      <td>0</td>\n      <td>0</td>\n      <td>0</td>\n      <td>0</td>\n      <td>0</td>\n      <td>0</td>\n      <td>0</td>\n      <td>0</td>\n      <td>1</td>\n      <td>0</td>\n      <td>0</td>\n      <td>0</td>\n      <td>0</td>\n      <td>0</td>\n      <td>0</td>\n      <td>0</td>\n      <td>0</td>\n      <td>0</td>\n    </tr>\n    <tr>\n      <th>1</th>\n      <td>SOHO</td>\n      <td>258.0</td>\n      <td>2650000.0</td>\n      <td>40.722184</td>\n      <td>-74.000657</td>\n      <td>10271.317829</td>\n      <td>0</td>\n      <td>0</td>\n      <td>0</td>\n      <td>0</td>\n      <td>0</td>\n      <td>0</td>\n      <td>0</td>\n      <td>0</td>\n      <td>1</td>\n      <td>0</td>\n      <td>0</td>\n      <td>0</td>\n      <td>0</td>\n      <td>0</td>\n      <td>0</td>\n      <td>0</td>\n      <td>0</td>\n      <td>0</td>\n      <td>0</td>\n      <td>0</td>\n      <td>0</td>\n      <td>0</td>\n      <td>0</td>\n      <td>0</td>\n      <td>0</td>\n      <td>0</td>\n      <td>0</td>\n      <td>0</td>\n      <td>0</td>\n      <td>0</td>\n      <td>0</td>\n      <td>0</td>\n      <td>0</td>\n      <td>0</td>\n      <td>0</td>\n      <td>0</td>\n      <td>0</td>\n      <td>0</td>\n      <td>0</td>\n      <td>0</td>\n      <td>0</td>\n      <td>0</td>\n      <td>0</td>\n      <td>0</td>\n      <td>0</td>\n      <td>0</td>\n      <td>0</td>\n    </tr>\n    <tr>\n      <th>2</th>\n      <td>SOHO</td>\n      <td>258.0</td>\n      <td>2650000.0</td>\n      <td>40.722184</td>\n      <td>-74.000657</td>\n      <td>10271.317829</td>\n      <td>0</td>\n      <td>1</td>\n      <td>0</td>\n      <td>0</td>\n      <td>0</td>\n      <td>0</td>\n      <td>0</td>\n      <td>0</td>\n      <td>0</td>\n      <td>0</td>\n      <td>0</td>\n      <td>0</td>\n      <td>0</td>\n      <td>0</td>\n      <td>0</td>\n      <td>0</td>\n      <td>0</td>\n      <td>0</td>\n      <td>0</td>\n      <td>0</td>\n      <td>0</td>\n      <td>0</td>\n      <td>0</td>\n      <td>0</td>\n      <td>0</td>\n      <td>0</td>\n      <td>0</td>\n      <td>0</td>\n      <td>0</td>\n      <td>0</td>\n      <td>0</td>\n      <td>0</td>\n      <td>0</td>\n      <td>0</td>\n      <td>0</td>\n      <td>0</td>\n      <td>0</td>\n      <td>0</td>\n      <td>0</td>\n      <td>0</td>\n      <td>0</td>\n      <td>0</td>\n      <td>0</td>\n      <td>0</td>\n      <td>0</td>\n      <td>0</td>\n      <td>0</td>\n    </tr>\n    <tr>\n      <th>3</th>\n      <td>SOHO</td>\n      <td>258.0</td>\n      <td>2650000.0</td>\n      <td>40.722184</td>\n      <td>-74.000657</td>\n      <td>10271.317829</td>\n      <td>0</td>\n      <td>0</td>\n      <td>0</td>\n      <td>0</td>\n      <td>0</td>\n      <td>0</td>\n      <td>0</td>\n      <td>0</td>\n      <td>0</td>\n      <td>0</td>\n      <td>0</td>\n      <td>0</td>\n      <td>0</td>\n      <td>0</td>\n      <td>0</td>\n      <td>0</td>\n      <td>0</td>\n      <td>0</td>\n      <td>0</td>\n      <td>0</td>\n      <td>0</td>\n      <td>0</td>\n      <td>0</td>\n      <td>0</td>\n      <td>0</td>\n      <td>0</td>\n      <td>1</td>\n      <td>0</td>\n      <td>0</td>\n      <td>0</td>\n      <td>0</td>\n      <td>0</td>\n      <td>0</td>\n      <td>0</td>\n      <td>0</td>\n      <td>0</td>\n      <td>0</td>\n      <td>0</td>\n      <td>0</td>\n      <td>0</td>\n      <td>0</td>\n      <td>0</td>\n      <td>0</td>\n      <td>0</td>\n      <td>0</td>\n      <td>0</td>\n      <td>0</td>\n    </tr>\n    <tr>\n      <th>4</th>\n      <td>SOHO</td>\n      <td>258.0</td>\n      <td>2650000.0</td>\n      <td>40.722184</td>\n      <td>-74.000657</td>\n      <td>10271.317829</td>\n      <td>0</td>\n      <td>0</td>\n      <td>0</td>\n      <td>0</td>\n      <td>0</td>\n      <td>0</td>\n      <td>0</td>\n      <td>0</td>\n      <td>0</td>\n      <td>1</td>\n      <td>0</td>\n      <td>0</td>\n      <td>0</td>\n      <td>0</td>\n      <td>0</td>\n      <td>0</td>\n      <td>0</td>\n      <td>0</td>\n      <td>0</td>\n      <td>0</td>\n      <td>0</td>\n      <td>0</td>\n      <td>0</td>\n      <td>0</td>\n      <td>0</td>\n      <td>0</td>\n      <td>0</td>\n      <td>0</td>\n      <td>0</td>\n      <td>0</td>\n      <td>0</td>\n      <td>0</td>\n      <td>0</td>\n      <td>0</td>\n      <td>0</td>\n      <td>0</td>\n      <td>0</td>\n      <td>0</td>\n      <td>0</td>\n      <td>0</td>\n      <td>0</td>\n      <td>0</td>\n      <td>0</td>\n      <td>0</td>\n      <td>0</td>\n      <td>0</td>\n      <td>0</td>\n    </tr>\n  </tbody>\n</table>\n</div>",
                        "text/plain": "  NEIGHBORHOOD  GROSS_SQUARE_FEET  SALE_PRICE   Latitude  Longitude  \\\n0         SOHO              258.0   2650000.0  40.722184 -74.000657   \n1         SOHO              258.0   2650000.0  40.722184 -74.000657   \n2         SOHO              258.0   2650000.0  40.722184 -74.000657   \n3         SOHO              258.0   2650000.0  40.722184 -74.000657   \n4         SOHO              258.0   2650000.0  40.722184 -74.000657   \n\n       Price/m2  Art Gallery  Arts & Crafts Store  Bar  Beer Bar  Beer Store  \\\n0  10271.317829            0                    0    0         0           0   \n1  10271.317829            0                    0    0         0           0   \n2  10271.317829            0                    1    0         0           0   \n3  10271.317829            0                    0    0         0           0   \n4  10271.317829            0                    0    0         0           0   \n\n   Coffee Shop  Comedy Club  Cycle Studio  Dance Studio  Dessert Shop  \\\n0            0            0             0             0             0   \n1            0            0             0             1             0   \n2            0            0             0             0             0   \n3            0            0             0             0             0   \n4            0            0             0             0             1   \n\n   Dog Run  Falafel Restaurant  Farmers Market  Filipino Restaurant  \\\n0        0                   0               0                    0   \n1        0                   0               0                    0   \n2        0                   0               0                    0   \n3        0                   0               0                    0   \n4        0                   0               0                    0   \n\n   Fried Chicken Joint  Furniture / Home Store  Gourmet Shop  \\\n0                    0                       0             0   \n1                    0                       0             0   \n2                    0                       0             0   \n3                    0                       0             0   \n4                    0                       0             0   \n\n   Greek Restaurant  Gym  Gym / Fitness Center  Hawaiian Restaurant  Hostel  \\\n0                 0    0                     0                    0       0   \n1                 0    0                     0                    0       0   \n2                 0    0                     0                    0       0   \n3                 0    0                     0                    0       0   \n4                 0    0                     0                    0       0   \n\n   Hotel  Italian Restaurant  Japanese Restaurant  Mediterranean Restaurant  \\\n0      0                   0                    0                         0   \n1      0                   0                    0                         0   \n2      0                   0                    0                         0   \n3      0                   0                    0                         0   \n4      0                   0                    0                         0   \n\n   Miscellaneous Shop  Molecular Gastronomy Restaurant  Monument / Landmark  \\\n0                   0                                0                    0   \n1                   0                                0                    0   \n2                   0                                0                    0   \n3                   1                                0                    0   \n4                   0                                0                    0   \n\n   Moroccan Restaurant  Outdoors & Recreation  Park  Peruvian Restaurant  \\\n0                    0                      0     0                    0   \n1                    0                      0     0                    0   \n2                    0                      0     0                    0   \n3                    0                      0     0                    0   \n4                    0                      0     0                    0   \n\n   Pet Caf\u00e9  Playground  Poke Place  Salad Place  Salon / Barbershop  \\\n0         0           0           0            0                   1   \n1         0           0           0            0                   0   \n2         0           0           0            0                   0   \n3         0           0           0            0                   0   \n4         0           0           0            0                   0   \n\n   Sandwich Place  Spa  Spanish Restaurant  Tea Room  Theater  \\\n0               0    0                   0         0        0   \n1               0    0                   0         0        0   \n2               0    0                   0         0        0   \n3               0    0                   0         0        0   \n4               0    0                   0         0        0   \n\n   Vietnamese Restaurant  Waterfront  Wine Bar  Yoga Studio  \n0                      0           0         0            0  \n1                      0           0         0            0  \n2                      0           0         0            0  \n3                      0           0         0            0  \n4                      0           0         0            0  "
                    },
                    "execution_count": 29,
                    "metadata": {},
                    "output_type": "execute_result"
                }
            ],
            "source": "manhattan_onehot.rename(columns={'Neighborhood': 'NEIGHBORHOOD'},inplace=True)\n \nh = Sample.merge(manhattan_onehot)\n\nh.head()"
        }
    ],
    "metadata": {
        "kernelspec": {
            "display_name": "Python 3.6",
            "language": "python",
            "name": "python3"
        },
        "language_info": {
            "codemirror_mode": {
                "name": "ipython",
                "version": 3
            },
            "file_extension": ".py",
            "mimetype": "text/x-python",
            "name": "python",
            "nbconvert_exporter": "python",
            "pygments_lexer": "ipython3",
            "version": "3.6.8"
        }
    },
    "nbformat": 4,
    "nbformat_minor": 1
}