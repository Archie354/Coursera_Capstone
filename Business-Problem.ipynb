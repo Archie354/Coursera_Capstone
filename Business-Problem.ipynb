{
    "cells": [
        {
            "cell_type": "markdown",
            "metadata": {},
            "source": "# Business Problem - how venues influence the price of real estate? "
        },
        {
            "cell_type": "markdown",
            "metadata": {},
            "source": "For this project, I decided to model the relation between the price of an estate and the type of venues in its neighborhood. \nThe objective is to determine whether or not some venues have a direct impact on the price, and if so how is the price affected by it. \n\nConcretely I will have to: \n1. geolocalize a set of real-estate transactions. As I cannot use geocoder API as such a large scale (too much data), I will have to make the analysis at the level of the neighborhoods. \n2. Calculate the average price per square meter for all neighborhoods in my data set. \n3. List the venues (and the type of venues) for each neighborhood\n4. Concatenate my two sources of data into one df\n5. Split my data in order to have a train set and a test set \n6. Pick and design the right algorithm to determine & predict the price of an estate given the venues its neighborhood has\n7. Evaluate the accuracy of the model\n\nNote: \n1. To make this analysis accurate and a bit pertinent I would need to work at the level of each transaction (i.e. geolocalize each real estate), because not only it is the close neighborhood that has an impact, but also the distance is a fluctuant paramter (e.g. it may be convinent to have a supermarket nearby your place but maybe not to having seen on the building from your living room. You'd rather have a beautiful park). \n2. Some other factors will be disregarded to make this study simplier. Yet they probably have some big impacts on the price (e.g. construction date of the building, material used for the construction, ecominical & social indicators of the population living in the neighborhood, etc.)"
        },
        {
            "cell_type": "code",
            "execution_count": 1,
            "metadata": {},
            "outputs": [],
            "source": "import numpy as np # library to handle data in a vectorized manner\n\nimport pandas as pd # library for data analsysis\npd.set_option('display.max_columns', None)\npd.set_option('display.max_rows', None)\n\nimport json # library to handle JSON files\n\nimport requests # library to handle requests\nfrom pandas.io.json import json_normalize # tranform JSON file into a pandas dataframe\n\n# Matplotlib and associated plotting modules\nimport matplotlib.cm as cm\nimport matplotlib.colors as colors\n\n# import k-means from clustering stage\nfrom sklearn.cluster import KMeans\n\n"
        },
        {
            "attachments": {},
            "cell_type": "markdown",
            "metadata": {},
            "source": "I will first import my main data source as a csv using the following method. Please find below a data set description: \n\nManhattan Rolling Sales File.  All Sales From Oct 2018 - Sep 2019.\t\t\t\n\"For sales prior to the Final, Neighborhood Name and Descriptive Data reflect the Final Roll 2019/20.\u00a0 \nSales after the Final Roll, Neighborhood Name and Descriptive Data reflect current data\"\t\t\t\nBuilding Class Category is based on Building Class at Time of Sale.\t\t\t\nNote: Condominium and cooperative sales are on the unit level and understood to have a count of one.\t\t\t\n\n\nIf you are interested by this dataset, you can download it from this url: https://www1.nyc.gov/site/finance/taxes/property-rolling-sales-data.page"
        },
        {
            "cell_type": "code",
            "execution_count": 2,
            "metadata": {},
            "outputs": [
                {
                    "data": {
                        "text/html": "<div>\n<style scoped>\n    .dataframe tbody tr th:only-of-type {\n        vertical-align: middle;\n    }\n\n    .dataframe tbody tr th {\n        vertical-align: top;\n    }\n\n    .dataframe thead th {\n        text-align: right;\n    }\n</style>\n<table border=\"1\" class=\"dataframe\">\n  <thead>\n    <tr style=\"text-align: right;\">\n      <th></th>\n      <th>NEIGHBORHOOD</th>\n      <th>ADDRESS</th>\n      <th>ZIP CODE</th>\n      <th>GROSS SQUARE FEET</th>\n      <th>YEAR BUILT</th>\n      <th>TAX CLASS AT TIME OF SALE</th>\n      <th>BUILDING CLASS AT TIME OF SALE</th>\n      <th>SALE PRICE</th>\n    </tr>\n  </thead>\n  <tbody>\n    <tr>\n      <th>0</th>\n      <td>ALPHABET CITY</td>\n      <td>743 EAST 6TH STREET</td>\n      <td>10009</td>\n      <td>3.68</td>\n      <td>1940</td>\n      <td>1</td>\n      <td>S1</td>\n      <td>3,200,000</td>\n    </tr>\n    <tr>\n      <th>1</th>\n      <td>ALPHABET CITY</td>\n      <td>189 EAST 7TH STREET</td>\n      <td>10009</td>\n      <td>2.183</td>\n      <td>1860</td>\n      <td>1</td>\n      <td>A4</td>\n      <td>0</td>\n    </tr>\n    <tr>\n      <th>2</th>\n      <td>ALPHABET CITY</td>\n      <td>526 EAST 5TH STREET</td>\n      <td>10009</td>\n      <td>5.2</td>\n      <td>1900</td>\n      <td>1</td>\n      <td>A4</td>\n      <td>6,100,000</td>\n    </tr>\n    <tr>\n      <th>3</th>\n      <td>ALPHABET CITY</td>\n      <td>166 AVENUE A</td>\n      <td>10009</td>\n      <td>4.52</td>\n      <td>1900</td>\n      <td>1</td>\n      <td>B9</td>\n      <td>0</td>\n    </tr>\n    <tr>\n      <th>4</th>\n      <td>ALPHABET CITY</td>\n      <td>166 AVENUE A</td>\n      <td>10009</td>\n      <td>4.52</td>\n      <td>1900</td>\n      <td>1</td>\n      <td>B9</td>\n      <td>0</td>\n    </tr>\n  </tbody>\n</table>\n</div>",
                        "text/plain": "    NEIGHBORHOOD              ADDRESS  ZIP CODE GROSS SQUARE FEET  YEAR BUILT  \\\n0  ALPHABET CITY  743 EAST 6TH STREET     10009              3.68        1940   \n1  ALPHABET CITY  189 EAST 7TH STREET     10009             2.183        1860   \n2  ALPHABET CITY  526 EAST 5TH STREET     10009               5.2        1900   \n3  ALPHABET CITY         166 AVENUE A     10009              4.52        1900   \n4  ALPHABET CITY         166 AVENUE A     10009              4.52        1900   \n\n   TAX CLASS AT TIME OF SALE BUILDING CLASS AT TIME OF SALE  SALE PRICE   \n0                          1                             S1    3,200,000  \n1                          1                             A4            0  \n2                          1                             A4    6,100,000  \n3                          1                             B9            0  \n4                          1                             B9            0  "
                    },
                    "execution_count": 2,
                    "metadata": {},
                    "output_type": "execute_result"
                }
            ],
            "source": "# The code was removed by Watson Studio for sharing."
        },
        {
            "cell_type": "markdown",
            "metadata": {},
            "source": "I will clean a bit my df by removing some useless columns"
        },
        {
            "cell_type": "code",
            "execution_count": 3,
            "metadata": {},
            "outputs": [
                {
                    "data": {
                        "text/html": "<div>\n<style scoped>\n    .dataframe tbody tr th:only-of-type {\n        vertical-align: middle;\n    }\n\n    .dataframe tbody tr th {\n        vertical-align: top;\n    }\n\n    .dataframe thead th {\n        text-align: right;\n    }\n</style>\n<table border=\"1\" class=\"dataframe\">\n  <thead>\n    <tr style=\"text-align: right;\">\n      <th></th>\n      <th>NEIGHBORHOOD</th>\n      <th>GROSS SQUARE FEET</th>\n      <th>SALE PRICE</th>\n    </tr>\n  </thead>\n  <tbody>\n    <tr>\n      <th>0</th>\n      <td>ALPHABET CITY</td>\n      <td>3.68</td>\n      <td>3,200,000</td>\n    </tr>\n    <tr>\n      <th>1</th>\n      <td>ALPHABET CITY</td>\n      <td>2.183</td>\n      <td>0</td>\n    </tr>\n    <tr>\n      <th>2</th>\n      <td>ALPHABET CITY</td>\n      <td>5.2</td>\n      <td>6,100,000</td>\n    </tr>\n    <tr>\n      <th>3</th>\n      <td>ALPHABET CITY</td>\n      <td>4.52</td>\n      <td>0</td>\n    </tr>\n    <tr>\n      <th>4</th>\n      <td>ALPHABET CITY</td>\n      <td>4.52</td>\n      <td>0</td>\n    </tr>\n  </tbody>\n</table>\n</div>",
                        "text/plain": "    NEIGHBORHOOD GROSS SQUARE FEET  SALE PRICE \n0  ALPHABET CITY              3.68    3,200,000\n1  ALPHABET CITY             2.183            0\n2  ALPHABET CITY               5.2    6,100,000\n3  ALPHABET CITY              4.52            0\n4  ALPHABET CITY              4.52            0"
                    },
                    "execution_count": 3,
                    "metadata": {},
                    "output_type": "execute_result"
                }
            ],
            "source": "df_data_0 = df_data_0.drop([\"ADDRESS\",\"ZIP CODE\",\"YEAR BUILT\",\"TAX CLASS AT TIME OF SALE\", \"BUILDING CLASS AT TIME OF SALE\"], axis=1)\ndf_data_0.head()"
        },
        {
            "cell_type": "markdown",
            "metadata": {},
            "source": "As I'm facing some performance issues with geocoder API, I will use a ready-made data set where I can extract the geographic coordinates for each neighborhood in Manhattan"
        },
        {
            "cell_type": "code",
            "execution_count": 4,
            "metadata": {},
            "outputs": [
                {
                    "name": "stdout",
                    "output_type": "stream",
                    "text": "Data downloaded!\n"
                }
            ],
            "source": "!wget -q -O 'newyork_data.json' https://cocl.us/new_york_dataset\nprint('Data downloaded!')"
        },
        {
            "cell_type": "code",
            "execution_count": 5,
            "metadata": {},
            "outputs": [],
            "source": "with open('newyork_data.json') as json_data:\n    newyork_data = json.load(json_data)"
        },
        {
            "cell_type": "code",
            "execution_count": 6,
            "metadata": {},
            "outputs": [],
            "source": "neighborhoods_data = newyork_data['features']"
        },
        {
            "cell_type": "code",
            "execution_count": 7,
            "metadata": {},
            "outputs": [],
            "source": "# define the dataframe columns\ncolumn_names = ['Borough', 'Neighborhood', 'Latitude', 'Longitude'] \n\n# instantiate the dataframe\nneighborhoods = pd.DataFrame(columns=column_names)"
        },
        {
            "cell_type": "code",
            "execution_count": 8,
            "metadata": {},
            "outputs": [],
            "source": "for data in neighborhoods_data:\n    borough = neighborhood_name = data['properties']['borough'] \n    neighborhood_name = data['properties']['name']\n        \n    neighborhood_latlon = data['geometry']['coordinates']\n    neighborhood_lat = neighborhood_latlon[1]\n    neighborhood_lon = neighborhood_latlon[0]\n    \n    neighborhoods = neighborhoods.append({'Borough': borough,\n                                          'Neighborhood': neighborhood_name,\n                                          'Latitude': neighborhood_lat,\n                                          'Longitude': neighborhood_lon}, ignore_index=True)"
        },
        {
            "cell_type": "code",
            "execution_count": 9,
            "metadata": {},
            "outputs": [
                {
                    "data": {
                        "text/html": "<div>\n<style scoped>\n    .dataframe tbody tr th:only-of-type {\n        vertical-align: middle;\n    }\n\n    .dataframe tbody tr th {\n        vertical-align: top;\n    }\n\n    .dataframe thead th {\n        text-align: right;\n    }\n</style>\n<table border=\"1\" class=\"dataframe\">\n  <thead>\n    <tr style=\"text-align: right;\">\n      <th></th>\n      <th>Borough</th>\n      <th>Neighborhood</th>\n      <th>Latitude</th>\n      <th>Longitude</th>\n    </tr>\n  </thead>\n  <tbody>\n    <tr>\n      <th>0</th>\n      <td>Manhattan</td>\n      <td>Marble Hill</td>\n      <td>40.876551</td>\n      <td>-73.910660</td>\n    </tr>\n    <tr>\n      <th>1</th>\n      <td>Manhattan</td>\n      <td>Chinatown</td>\n      <td>40.715618</td>\n      <td>-73.994279</td>\n    </tr>\n    <tr>\n      <th>2</th>\n      <td>Manhattan</td>\n      <td>Washington Heights</td>\n      <td>40.851903</td>\n      <td>-73.936900</td>\n    </tr>\n    <tr>\n      <th>3</th>\n      <td>Manhattan</td>\n      <td>Inwood</td>\n      <td>40.867684</td>\n      <td>-73.921210</td>\n    </tr>\n    <tr>\n      <th>4</th>\n      <td>Manhattan</td>\n      <td>Hamilton Heights</td>\n      <td>40.823604</td>\n      <td>-73.949688</td>\n    </tr>\n  </tbody>\n</table>\n</div>",
                        "text/plain": "     Borough        Neighborhood   Latitude  Longitude\n0  Manhattan         Marble Hill  40.876551 -73.910660\n1  Manhattan           Chinatown  40.715618 -73.994279\n2  Manhattan  Washington Heights  40.851903 -73.936900\n3  Manhattan              Inwood  40.867684 -73.921210\n4  Manhattan    Hamilton Heights  40.823604 -73.949688"
                    },
                    "execution_count": 9,
                    "metadata": {},
                    "output_type": "execute_result"
                }
            ],
            "source": "manhattan_data = neighborhoods[neighborhoods['Borough'] == 'Manhattan'].reset_index(drop=True)\nmanhattan_data.head()"
        },
        {
            "cell_type": "code",
            "execution_count": 10,
            "metadata": {},
            "outputs": [
                {
                    "data": {
                        "text/html": "<div>\n<style scoped>\n    .dataframe tbody tr th:only-of-type {\n        vertical-align: middle;\n    }\n\n    .dataframe tbody tr th {\n        vertical-align: top;\n    }\n\n    .dataframe thead th {\n        text-align: right;\n    }\n</style>\n<table border=\"1\" class=\"dataframe\">\n  <thead>\n    <tr style=\"text-align: right;\">\n      <th></th>\n      <th>NEIGHBORHOOD</th>\n      <th>Latitude</th>\n      <th>Longitude</th>\n    </tr>\n  </thead>\n  <tbody>\n    <tr>\n      <th>0</th>\n      <td>MARBLE HILL</td>\n      <td>40.876551</td>\n      <td>-73.910660</td>\n    </tr>\n    <tr>\n      <th>1</th>\n      <td>CHINATOWN</td>\n      <td>40.715618</td>\n      <td>-73.994279</td>\n    </tr>\n    <tr>\n      <th>2</th>\n      <td>WASHINGTON HEIGHTS</td>\n      <td>40.851903</td>\n      <td>-73.936900</td>\n    </tr>\n    <tr>\n      <th>3</th>\n      <td>INWOOD</td>\n      <td>40.867684</td>\n      <td>-73.921210</td>\n    </tr>\n    <tr>\n      <th>4</th>\n      <td>HAMILTON HEIGHTS</td>\n      <td>40.823604</td>\n      <td>-73.949688</td>\n    </tr>\n  </tbody>\n</table>\n</div>",
                        "text/plain": "         NEIGHBORHOOD   Latitude  Longitude\n0         MARBLE HILL  40.876551 -73.910660\n1           CHINATOWN  40.715618 -73.994279\n2  WASHINGTON HEIGHTS  40.851903 -73.936900\n3              INWOOD  40.867684 -73.921210\n4    HAMILTON HEIGHTS  40.823604 -73.949688"
                    },
                    "execution_count": 10,
                    "metadata": {},
                    "output_type": "execute_result"
                }
            ],
            "source": "manhattan_data.rename(columns={'Neighborhood': 'NEIGHBORHOOD'},inplace=True)\nmanhattan_data = manhattan_data.drop(\"Borough\", axis=1)\nmanhattan_data['NEIGHBORHOOD'] = manhattan_data['NEIGHBORHOOD'].str.upper() \nmanhattan_data.head()"
        },
        {
            "cell_type": "code",
            "execution_count": 11,
            "metadata": {},
            "outputs": [
                {
                    "data": {
                        "text/html": "<div>\n<style scoped>\n    .dataframe tbody tr th:only-of-type {\n        vertical-align: middle;\n    }\n\n    .dataframe tbody tr th {\n        vertical-align: top;\n    }\n\n    .dataframe thead th {\n        text-align: right;\n    }\n</style>\n<table border=\"1\" class=\"dataframe\">\n  <thead>\n    <tr style=\"text-align: right;\">\n      <th></th>\n      <th>NEIGHBORHOOD</th>\n      <th>GROSS SQUARE FEET</th>\n      <th>SALE PRICE</th>\n      <th>Latitude</th>\n      <th>Longitude</th>\n    </tr>\n  </thead>\n  <tbody>\n    <tr>\n      <th>0</th>\n      <td>CHELSEA</td>\n      <td>0</td>\n      <td>3,469,075</td>\n      <td>40.744035</td>\n      <td>-74.003116</td>\n    </tr>\n    <tr>\n      <th>1</th>\n      <td>CHELSEA</td>\n      <td>0</td>\n      <td>3,063,553</td>\n      <td>40.744035</td>\n      <td>-74.003116</td>\n    </tr>\n    <tr>\n      <th>2</th>\n      <td>CHELSEA</td>\n      <td>0</td>\n      <td>3,809,780</td>\n      <td>40.744035</td>\n      <td>-74.003116</td>\n    </tr>\n    <tr>\n      <th>3</th>\n      <td>CHELSEA</td>\n      <td>5.39</td>\n      <td>0</td>\n      <td>40.744035</td>\n      <td>-74.003116</td>\n    </tr>\n    <tr>\n      <th>4</th>\n      <td>CHELSEA</td>\n      <td>5.39</td>\n      <td>0</td>\n      <td>40.744035</td>\n      <td>-74.003116</td>\n    </tr>\n  </tbody>\n</table>\n</div>",
                        "text/plain": "  NEIGHBORHOOD GROSS SQUARE FEET  SALE PRICE    Latitude  Longitude\n0      CHELSEA                 0    3,469,075  40.744035 -74.003116\n1      CHELSEA                 0    3,063,553  40.744035 -74.003116\n2      CHELSEA                 0    3,809,780  40.744035 -74.003116\n3      CHELSEA              5.39            0  40.744035 -74.003116\n4      CHELSEA              5.39            0  40.744035 -74.003116"
                    },
                    "execution_count": 11,
                    "metadata": {},
                    "output_type": "execute_result"
                }
            ],
            "source": "Lastdf = df_data_0.merge(manhattan_data)\nLastdf.head()"
        },
        {
            "cell_type": "code",
            "execution_count": 12,
            "metadata": {},
            "outputs": [],
            "source": "g = Lastdf.groupby('NEIGHBORHOOD')"
        },
        {
            "cell_type": "code",
            "execution_count": 13,
            "metadata": {},
            "outputs": [
                {
                    "data": {
                        "text/html": "<div>\n<style scoped>\n    .dataframe tbody tr th:only-of-type {\n        vertical-align: middle;\n    }\n\n    .dataframe tbody tr th {\n        vertical-align: top;\n    }\n\n    .dataframe thead th {\n        text-align: right;\n    }\n</style>\n<table border=\"1\" class=\"dataframe\">\n  <thead>\n    <tr style=\"text-align: right;\">\n      <th></th>\n      <th>Latitude</th>\n      <th>Longitude</th>\n    </tr>\n    <tr>\n      <th>NEIGHBORHOOD</th>\n      <th></th>\n      <th></th>\n    </tr>\n  </thead>\n  <tbody>\n    <tr>\n      <th>CHELSEA</th>\n      <td>40.744035</td>\n      <td>-74.003116</td>\n    </tr>\n    <tr>\n      <th>CHINATOWN</th>\n      <td>40.715618</td>\n      <td>-73.994279</td>\n    </tr>\n    <tr>\n      <th>CIVIC CENTER</th>\n      <td>40.715229</td>\n      <td>-74.005415</td>\n    </tr>\n    <tr>\n      <th>CLINTON</th>\n      <td>40.759101</td>\n      <td>-73.996119</td>\n    </tr>\n    <tr>\n      <th>EAST VILLAGE</th>\n      <td>40.727847</td>\n      <td>-73.982226</td>\n    </tr>\n    <tr>\n      <th>FLATIRON</th>\n      <td>40.739673</td>\n      <td>-73.990947</td>\n    </tr>\n    <tr>\n      <th>GRAMERCY</th>\n      <td>40.737210</td>\n      <td>-73.981376</td>\n    </tr>\n    <tr>\n      <th>INWOOD</th>\n      <td>40.867684</td>\n      <td>-73.921210</td>\n    </tr>\n    <tr>\n      <th>LITTLE ITALY</th>\n      <td>40.719324</td>\n      <td>-73.997305</td>\n    </tr>\n    <tr>\n      <th>LOWER EAST SIDE</th>\n      <td>40.717807</td>\n      <td>-73.980890</td>\n    </tr>\n    <tr>\n      <th>MANHATTAN VALLEY</th>\n      <td>40.797307</td>\n      <td>-73.964286</td>\n    </tr>\n    <tr>\n      <th>MORNINGSIDE HEIGHTS</th>\n      <td>40.808000</td>\n      <td>-73.963896</td>\n    </tr>\n    <tr>\n      <th>MURRAY HILL</th>\n      <td>40.748303</td>\n      <td>-73.978332</td>\n    </tr>\n    <tr>\n      <th>ROOSEVELT ISLAND</th>\n      <td>40.762160</td>\n      <td>-73.949168</td>\n    </tr>\n    <tr>\n      <th>SOHO</th>\n      <td>40.722184</td>\n      <td>-74.000657</td>\n    </tr>\n    <tr>\n      <th>TRIBECA</th>\n      <td>40.721522</td>\n      <td>-74.010683</td>\n    </tr>\n  </tbody>\n</table>\n</div>",
                        "text/plain": "                      Latitude  Longitude\nNEIGHBORHOOD                             \nCHELSEA              40.744035 -74.003116\nCHINATOWN            40.715618 -73.994279\nCIVIC CENTER         40.715229 -74.005415\nCLINTON              40.759101 -73.996119\nEAST VILLAGE         40.727847 -73.982226\nFLATIRON             40.739673 -73.990947\nGRAMERCY             40.737210 -73.981376\nINWOOD               40.867684 -73.921210\nLITTLE ITALY         40.719324 -73.997305\nLOWER EAST SIDE      40.717807 -73.980890\nMANHATTAN VALLEY     40.797307 -73.964286\nMORNINGSIDE HEIGHTS  40.808000 -73.963896\nMURRAY HILL          40.748303 -73.978332\nROOSEVELT ISLAND     40.762160 -73.949168\nSOHO                 40.722184 -74.000657\nTRIBECA              40.721522 -74.010683"
                    },
                    "execution_count": 13,
                    "metadata": {},
                    "output_type": "execute_result"
                }
            ],
            "source": "g.mean()"
        }
    ],
    "metadata": {
        "kernelspec": {
            "display_name": "Python 3.6",
            "language": "python",
            "name": "python3"
        },
        "language_info": {
            "codemirror_mode": {
                "name": "ipython",
                "version": 3
            },
            "file_extension": ".py",
            "mimetype": "text/x-python",
            "name": "python",
            "nbconvert_exporter": "python",
            "pygments_lexer": "ipython3",
            "version": "3.6.8"
        }
    },
    "nbformat": 4,
    "nbformat_minor": 1
}